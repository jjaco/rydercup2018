{
 "cells": [
  {
   "cell_type": "code",
   "execution_count": 1,
   "metadata": {
    "collapsed": false,
    "deletable": true,
    "editable": true
   },
   "outputs": [],
   "source": [
    "from pga import retrieve_leaderboard, retrieve_schedule, by_rank, by_relative_scores, player_name\n",
    "import numpy as np\n",
    "import pandas as pd\n",
    "from json import JSONDecodeError\n",
    "import requests\n",
    "\n",
    "%load_ext autoreload\n",
    "%autoreload 2\n",
    "\n",
    "import matplotlib.pyplot as plt\n",
    "%matplotlib inline"
   ]
  },
  {
   "cell_type": "markdown",
   "metadata": {
    "deletable": true,
    "editable": true
   },
   "source": [
    "In this notebook, we'll have a look at some simplistic metrics for performance on the PGA Tour this season, and use these to see which guys are in with a shot as one of Jim Furyk's 4 prospective picks (from a data perspective, at least) ahead of the Ryder Cup in France this September. \n",
    "\n",
    "There's been a lot of speculation about who should be included (based on recent regular season and long-term RC performance): with the likes of Finau & DeChambeau making strong cases alongside on-form US team veterans like Woods & Mickelson who only just missed out on points. But if Furyk was taking a purely data-driven approach to selecting guys for his wildcards, who might he be having a look at?"
   ]
  },
  {
   "cell_type": "markdown",
   "metadata": {
    "deletable": true,
    "editable": true
   },
   "source": [
    "### Grab PGA Tour results (thru Northern Trust)"
   ]
  },
  {
   "cell_type": "code",
   "execution_count": 2,
   "metadata": {
    "collapsed": false,
    "deletable": true,
    "editable": true
   },
   "outputs": [
    {
     "name": "stdout",
     "output_type": "stream",
     "text": [
      "Safeway Open 2017-10-05\n",
      "CIMB Classic 2017-10-12\n",
      "The CJ CUP 2017-10-19\n",
      "Sanderson Farms Championship 2017-10-26\n",
      "World Golf Championships-HSBC Champions 2017-10-26\n",
      "Shriners Hospitals for Children Open 2017-11-02\n",
      "OHL Classic at Mayakoba 2017-11-09\n",
      "The RSM Classic 2017-11-16\n",
      "Hero World Challenge 2017-11-30\n",
      "QBE Shootout 2017-12-08\n",
      "Sentry Tournament of Champions 2018-01-04\n",
      "Sony Open in Hawaii 2018-01-11\n",
      "CareerBuilder Challenge 2018-01-18\n",
      "Farmers Insurance Open 2018-01-25\n",
      "Waste Management Phoenix Open 2018-02-01\n",
      "AT&T Pebble Beach Pro-Am 2018-02-08\n",
      "Genesis Open 2018-02-15\n",
      "The Honda Classic 2018-02-22\n",
      "World Golf Championships-Mexico Championship 2018-03-01\n",
      "Valspar Championship 2018-03-08\n",
      "Arnold Palmer Invitational presented by Mastercard 2018-03-15\n",
      "Corales Puntacana Resort & Club Championship 2018-03-22\n",
      "Houston Open 2018-03-29\n",
      "The Masters 2018-04-05\n",
      "RBC Heritage 2018-04-12\n",
      "Valero Texas Open 2018-04-19\n",
      "Zurich Classic of New Orleans 2018-04-26\n",
      "Wells Fargo Championship 2018-05-03\n",
      "THE PLAYERS Championship 2018-05-10\n",
      "AT&T Byron Nelson 2018-05-17\n",
      "Fort Worth Invitational 2018-05-24\n",
      "the Memorial Tournament presented by Nationwide 2018-05-31\n",
      "FedEx St. Jude Classic 2018-06-07\n",
      "U.S. Open 2018-06-14\n",
      "Travelers Championship 2018-06-21\n",
      "Quicken Loans National 2018-06-28\n",
      "A Military Tribute at The Greenbrier 2018-07-05\n",
      "John Deere Classic 2018-07-12\n",
      "Barbasol Championship 2018-07-19\n",
      "The Open Championship 2018-07-19\n",
      "RBC Canadian Open 2018-07-26\n",
      "Barracuda Championship 2018-08-02\n",
      "World Golf Championships-Bridgestone Invitational 2018-08-02\n",
      "PGA Championship 2018-08-09\n",
      "Wyndham Championship 2018-08-16\n",
      "THE NORTHERN TRUST 2018-08-23\n"
     ]
    }
   ],
   "source": [
    "schedule = retrieve_schedule()\n",
    "#All 2017/18 events thru Northern Trust\n",
    "tids = [(tournament['permNum'], tournament['date']['start']) \n",
    "        for tournament in schedule['years'][0]['tours'][0]['trns'][:-4]]\n",
    "\n",
    "#Grab results for US players\n",
    "results_by_rank = []\n",
    "results_by_relative_score = []\n",
    "\n",
    "for (tid, start_date) in tids:\n",
    "    try:\n",
    "        leaderboard = retrieve_leaderboard(tid)\n",
    "        print(\"{0} {1}\".format(leaderboard['tournament_name'], start_date))\n",
    "\n",
    "        results_by_rank.append(by_rank(leaderboard, nationality='USA'))\n",
    "        results_by_relative_score.append(by_relative_scores(leaderboard, nationality='USA'))\n",
    "        \n",
    "    except JSONDecodeError:\n",
    "        pass"
   ]
  },
  {
   "cell_type": "markdown",
   "metadata": {
    "deletable": true,
    "editable": true
   },
   "source": [
    "### Week-on-week event rank"
   ]
  },
  {
   "cell_type": "code",
   "execution_count": 3,
   "metadata": {
    "collapsed": false,
    "deletable": true,
    "editable": true
   },
   "outputs": [],
   "source": [
    "#Rank values for each week\n",
    "leaderboard_ts = pd.concat(results_by_rank, axis=1)\n",
    "leaderboard_ts.columns = [str(_) for _ in np.arange(1, len(leaderboard_ts.columns) + 1)]\n",
    "\n",
    "#Calculate mean rank, only consider players with at least 10 cuts made this season\n",
    "leaderboard_ts['mean_rank'] = leaderboard_ts.mean(axis=1)\n",
    "leaderboard_ts['cuts'] = [len(pd.Series(row).dropna()) for row in leaderboard_ts.values]\n",
    "leaderboard_ts = leaderboard_ts[leaderboard_ts['cuts'] >= 10]"
   ]
  },
  {
   "cell_type": "markdown",
   "metadata": {
    "deletable": true,
    "editable": true
   },
   "source": [
    "The rank data for each week is the final position (post-cut) compared to the field at the conclusion of the event (note that this doesn't consider tied examples). This gives a crude idea of finishing performance throughout the regular season so far without consideration of score."
   ]
  },
  {
   "cell_type": "code",
   "execution_count": 4,
   "metadata": {
    "collapsed": false,
    "deletable": true,
    "editable": true
   },
   "outputs": [
    {
     "data": {
      "text/html": [
       "<div>\n",
       "<style>\n",
       "    .dataframe thead tr:only-child th {\n",
       "        text-align: right;\n",
       "    }\n",
       "\n",
       "    .dataframe thead th {\n",
       "        text-align: left;\n",
       "    }\n",
       "\n",
       "    .dataframe tbody tr th {\n",
       "        vertical-align: top;\n",
       "    }\n",
       "</style>\n",
       "<table border=\"1\" class=\"dataframe\">\n",
       "  <thead>\n",
       "    <tr style=\"text-align: right;\">\n",
       "      <th></th>\n",
       "      <th>1</th>\n",
       "      <th>2</th>\n",
       "      <th>3</th>\n",
       "      <th>4</th>\n",
       "      <th>5</th>\n",
       "      <th>6</th>\n",
       "      <th>7</th>\n",
       "      <th>8</th>\n",
       "      <th>9</th>\n",
       "      <th>10</th>\n",
       "      <th>...</th>\n",
       "      <th>38</th>\n",
       "      <th>39</th>\n",
       "      <th>40</th>\n",
       "      <th>41</th>\n",
       "      <th>42</th>\n",
       "      <th>43</th>\n",
       "      <th>44</th>\n",
       "      <th>45</th>\n",
       "      <th>mean_rank</th>\n",
       "      <th>cuts</th>\n",
       "    </tr>\n",
       "  </thead>\n",
       "  <tbody>\n",
       "    <tr>\n",
       "      <th>kevin tway</th>\n",
       "      <td>40.0</td>\n",
       "      <td>24.0</td>\n",
       "      <td>16.0</td>\n",
       "      <td>NaN</td>\n",
       "      <td>NaN</td>\n",
       "      <td>31.0</td>\n",
       "      <td>NaN</td>\n",
       "      <td>NaN</td>\n",
       "      <td>NaN</td>\n",
       "      <td>NaN</td>\n",
       "      <td>...</td>\n",
       "      <td>NaN</td>\n",
       "      <td>NaN</td>\n",
       "      <td>11.0</td>\n",
       "      <td>18.0</td>\n",
       "      <td>NaN</td>\n",
       "      <td>NaN</td>\n",
       "      <td>9.0</td>\n",
       "      <td>42.0</td>\n",
       "      <td>29.347826</td>\n",
       "      <td>24</td>\n",
       "    </tr>\n",
       "    <tr>\n",
       "      <th>chris kirk</th>\n",
       "      <td>27.0</td>\n",
       "      <td>NaN</td>\n",
       "      <td>31.0</td>\n",
       "      <td>36.0</td>\n",
       "      <td>NaN</td>\n",
       "      <td>NaN</td>\n",
       "      <td>NaN</td>\n",
       "      <td>7.0</td>\n",
       "      <td>NaN</td>\n",
       "      <td>NaN</td>\n",
       "      <td>...</td>\n",
       "      <td>29.0</td>\n",
       "      <td>NaN</td>\n",
       "      <td>52.0</td>\n",
       "      <td>NaN</td>\n",
       "      <td>NaN</td>\n",
       "      <td>18.0</td>\n",
       "      <td>8.0</td>\n",
       "      <td>54.0</td>\n",
       "      <td>23.772727</td>\n",
       "      <td>23</td>\n",
       "    </tr>\n",
       "    <tr>\n",
       "      <th>austin cook</th>\n",
       "      <td>NaN</td>\n",
       "      <td>NaN</td>\n",
       "      <td>NaN</td>\n",
       "      <td>26.0</td>\n",
       "      <td>NaN</td>\n",
       "      <td>20.0</td>\n",
       "      <td>34.0</td>\n",
       "      <td>1.0</td>\n",
       "      <td>NaN</td>\n",
       "      <td>17.0</td>\n",
       "      <td>...</td>\n",
       "      <td>NaN</td>\n",
       "      <td>19.0</td>\n",
       "      <td>NaN</td>\n",
       "      <td>NaN</td>\n",
       "      <td>25.0</td>\n",
       "      <td>29.0</td>\n",
       "      <td>NaN</td>\n",
       "      <td>48.0</td>\n",
       "      <td>23.772727</td>\n",
       "      <td>23</td>\n",
       "    </tr>\n",
       "    <tr>\n",
       "      <th>beau hossler</th>\n",
       "      <td>56.0</td>\n",
       "      <td>NaN</td>\n",
       "      <td>NaN</td>\n",
       "      <td>15.0</td>\n",
       "      <td>NaN</td>\n",
       "      <td>7.0</td>\n",
       "      <td>26.0</td>\n",
       "      <td>53.0</td>\n",
       "      <td>NaN</td>\n",
       "      <td>NaN</td>\n",
       "      <td>...</td>\n",
       "      <td>NaN</td>\n",
       "      <td>30.0</td>\n",
       "      <td>NaN</td>\n",
       "      <td>NaN</td>\n",
       "      <td>NaN</td>\n",
       "      <td>NaN</td>\n",
       "      <td>NaN</td>\n",
       "      <td>49.0</td>\n",
       "      <td>27.000000</td>\n",
       "      <td>23</td>\n",
       "    </tr>\n",
       "    <tr>\n",
       "      <th>charles howell iii</th>\n",
       "      <td>NaN</td>\n",
       "      <td>31.0</td>\n",
       "      <td>10.0</td>\n",
       "      <td>NaN</td>\n",
       "      <td>9.0</td>\n",
       "      <td>NaN</td>\n",
       "      <td>3.0</td>\n",
       "      <td>NaN</td>\n",
       "      <td>NaN</td>\n",
       "      <td>NaN</td>\n",
       "      <td>...</td>\n",
       "      <td>NaN</td>\n",
       "      <td>NaN</td>\n",
       "      <td>NaN</td>\n",
       "      <td>NaN</td>\n",
       "      <td>NaN</td>\n",
       "      <td>38.0</td>\n",
       "      <td>NaN</td>\n",
       "      <td>NaN</td>\n",
       "      <td>20.047619</td>\n",
       "      <td>22</td>\n",
       "    </tr>\n",
       "  </tbody>\n",
       "</table>\n",
       "<p>5 rows × 47 columns</p>\n",
       "</div>"
      ],
      "text/plain": [
       "                       1     2     3     4    5     6     7     8   9    10  \\\n",
       "kevin tway          40.0  24.0  16.0   NaN  NaN  31.0   NaN   NaN NaN   NaN   \n",
       "chris kirk          27.0   NaN  31.0  36.0  NaN   NaN   NaN   7.0 NaN   NaN   \n",
       "austin cook          NaN   NaN   NaN  26.0  NaN  20.0  34.0   1.0 NaN  17.0   \n",
       "beau hossler        56.0   NaN   NaN  15.0  NaN   7.0  26.0  53.0 NaN   NaN   \n",
       "charles howell iii   NaN  31.0  10.0   NaN  9.0   NaN   3.0   NaN NaN   NaN   \n",
       "\n",
       "                    ...     38    39    40    41    42    43   44    45  \\\n",
       "kevin tway          ...    NaN   NaN  11.0  18.0   NaN   NaN  9.0  42.0   \n",
       "chris kirk          ...   29.0   NaN  52.0   NaN   NaN  18.0  8.0  54.0   \n",
       "austin cook         ...    NaN  19.0   NaN   NaN  25.0  29.0  NaN  48.0   \n",
       "beau hossler        ...    NaN  30.0   NaN   NaN   NaN   NaN  NaN  49.0   \n",
       "charles howell iii  ...    NaN   NaN   NaN   NaN   NaN  38.0  NaN   NaN   \n",
       "\n",
       "                    mean_rank  cuts  \n",
       "kevin tway          29.347826    24  \n",
       "chris kirk          23.772727    23  \n",
       "austin cook         23.772727    23  \n",
       "beau hossler        27.000000    23  \n",
       "charles howell iii  20.047619    22  \n",
       "\n",
       "[5 rows x 47 columns]"
      ]
     },
     "execution_count": 4,
     "metadata": {},
     "output_type": "execute_result"
    }
   ],
   "source": [
    "leaderboard_ts.sort_values('cuts', ascending=False).iloc[:5]"
   ]
  },
  {
   "cell_type": "markdown",
   "metadata": {
    "deletable": true,
    "editable": true
   },
   "source": [
    "As can be seen above, there's a few guys who have ~23 cuts made this year. But how about actual performance? We can have a look at the mean final rank per week for those players that have competed enough this year (assuming 10 or more cuts made). Let's highlight the already-qualified US players to see how they're doing in this view."
   ]
  },
  {
   "cell_type": "code",
   "execution_count": 5,
   "metadata": {
    "collapsed": false,
    "deletable": true,
    "editable": true
   },
   "outputs": [
    {
     "data": {
      "text/html": [
       "<style  type=\"text/css\" >\n",
       "    #T_1b7e4c68_ab26_11e8_b216_784f43789ad9row0_col0 {\n",
       "            background:  lightblue;\n",
       "        }    #T_1b7e4c68_ab26_11e8_b216_784f43789ad9row0_col1 {\n",
       "            background:  lightblue;\n",
       "        }    #T_1b7e4c68_ab26_11e8_b216_784f43789ad9row1_col0 {\n",
       "            background:  lightblue;\n",
       "        }    #T_1b7e4c68_ab26_11e8_b216_784f43789ad9row1_col1 {\n",
       "            background:  lightblue;\n",
       "        }    #T_1b7e4c68_ab26_11e8_b216_784f43789ad9row2_col0 {\n",
       "            background:  lightblue;\n",
       "        }    #T_1b7e4c68_ab26_11e8_b216_784f43789ad9row2_col1 {\n",
       "            background:  lightblue;\n",
       "        }    #T_1b7e4c68_ab26_11e8_b216_784f43789ad9row3_col0 {\n",
       "            background:  lightblue;\n",
       "        }    #T_1b7e4c68_ab26_11e8_b216_784f43789ad9row3_col1 {\n",
       "            background:  lightblue;\n",
       "        }    #T_1b7e4c68_ab26_11e8_b216_784f43789ad9row4_col0 {\n",
       "            background:  lightblue;\n",
       "        }    #T_1b7e4c68_ab26_11e8_b216_784f43789ad9row4_col1 {\n",
       "            background:  lightblue;\n",
       "        }    #T_1b7e4c68_ab26_11e8_b216_784f43789ad9row8_col0 {\n",
       "            background:  lightblue;\n",
       "        }    #T_1b7e4c68_ab26_11e8_b216_784f43789ad9row8_col1 {\n",
       "            background:  lightblue;\n",
       "        }    #T_1b7e4c68_ab26_11e8_b216_784f43789ad9row9_col0 {\n",
       "            background:  lightblue;\n",
       "        }    #T_1b7e4c68_ab26_11e8_b216_784f43789ad9row9_col1 {\n",
       "            background:  lightblue;\n",
       "        }</style>  \n",
       "<table id=\"T_1b7e4c68_ab26_11e8_b216_784f43789ad9\" > \n",
       "<thead>    <tr> \n",
       "        <th class=\"blank level0\" ></th> \n",
       "        <th class=\"col_heading level0 col0\" >mean_rank</th> \n",
       "        <th class=\"col_heading level0 col1\" >cuts</th> \n",
       "    </tr></thead> \n",
       "<tbody>    <tr> \n",
       "        <th id=\"T_1b7e4c68_ab26_11e8_b216_784f43789ad9level0_row0\" class=\"row_heading level0 row0\" >dustin johnson</th> \n",
       "        <td id=\"T_1b7e4c68_ab26_11e8_b216_784f43789ad9row0_col0\" class=\"data row0 col0\" >6.5</td> \n",
       "        <td id=\"T_1b7e4c68_ab26_11e8_b216_784f43789ad9row0_col1\" class=\"data row0 col1\" >17</td> \n",
       "    </tr>    <tr> \n",
       "        <th id=\"T_1b7e4c68_ab26_11e8_b216_784f43789ad9level0_row1\" class=\"row_heading level0 row1\" >justin thomas</th> \n",
       "        <td id=\"T_1b7e4c68_ab26_11e8_b216_784f43789ad9row1_col0\" class=\"data row1 col0\" >10.5</td> \n",
       "        <td id=\"T_1b7e4c68_ab26_11e8_b216_784f43789ad9row1_col1\" class=\"data row1 col1\" >19</td> \n",
       "    </tr>    <tr> \n",
       "        <th id=\"T_1b7e4c68_ab26_11e8_b216_784f43789ad9level0_row2\" class=\"row_heading level0 row2\" >brooks koepka</th> \n",
       "        <td id=\"T_1b7e4c68_ab26_11e8_b216_784f43789ad9row2_col0\" class=\"data row2 col0\" >11.6154</td> \n",
       "        <td id=\"T_1b7e4c68_ab26_11e8_b216_784f43789ad9row2_col1\" class=\"data row2 col1\" >14</td> \n",
       "    </tr>    <tr> \n",
       "        <th id=\"T_1b7e4c68_ab26_11e8_b216_784f43789ad9level0_row3\" class=\"row_heading level0 row3\" >rickie fowler</th> \n",
       "        <td id=\"T_1b7e4c68_ab26_11e8_b216_784f43789ad9row3_col0\" class=\"data row3 col0\" >11.75</td> \n",
       "        <td id=\"T_1b7e4c68_ab26_11e8_b216_784f43789ad9row3_col1\" class=\"data row3 col1\" >17</td> \n",
       "    </tr>    <tr> \n",
       "        <th id=\"T_1b7e4c68_ab26_11e8_b216_784f43789ad9level0_row4\" class=\"row_heading level0 row4\" >patrick reed</th> \n",
       "        <td id=\"T_1b7e4c68_ab26_11e8_b216_784f43789ad9row4_col0\" class=\"data row4 col0\" >11.9412</td> \n",
       "        <td id=\"T_1b7e4c68_ab26_11e8_b216_784f43789ad9row4_col1\" class=\"data row4 col1\" >18</td> \n",
       "    </tr>    <tr> \n",
       "        <th id=\"T_1b7e4c68_ab26_11e8_b216_784f43789ad9level0_row5\" class=\"row_heading level0 row5\" >tiger woods</th> \n",
       "        <td id=\"T_1b7e4c68_ab26_11e8_b216_784f43789ad9row5_col0\" class=\"data row5 col0\" >12.0714</td> \n",
       "        <td id=\"T_1b7e4c68_ab26_11e8_b216_784f43789ad9row5_col1\" class=\"data row5 col1\" >15</td> \n",
       "    </tr>    <tr> \n",
       "        <th id=\"T_1b7e4c68_ab26_11e8_b216_784f43789ad9level0_row6\" class=\"row_heading level0 row6\" >patrick cantlay</th> \n",
       "        <td id=\"T_1b7e4c68_ab26_11e8_b216_784f43789ad9row6_col0\" class=\"data row6 col0\" >12.8824</td> \n",
       "        <td id=\"T_1b7e4c68_ab26_11e8_b216_784f43789ad9row6_col1\" class=\"data row6 col1\" >18</td> \n",
       "    </tr>    <tr> \n",
       "        <th id=\"T_1b7e4c68_ab26_11e8_b216_784f43789ad9level0_row7\" class=\"row_heading level0 row7\" >tony finau</th> \n",
       "        <td id=\"T_1b7e4c68_ab26_11e8_b216_784f43789ad9row7_col0\" class=\"data row7 col0\" >12.9048</td> \n",
       "        <td id=\"T_1b7e4c68_ab26_11e8_b216_784f43789ad9row7_col1\" class=\"data row7 col1\" >22</td> \n",
       "    </tr>    <tr> \n",
       "        <th id=\"T_1b7e4c68_ab26_11e8_b216_784f43789ad9level0_row8\" class=\"row_heading level0 row8\" >webb simpson</th> \n",
       "        <td id=\"T_1b7e4c68_ab26_11e8_b216_784f43789ad9row8_col0\" class=\"data row8 col0\" >13.1111</td> \n",
       "        <td id=\"T_1b7e4c68_ab26_11e8_b216_784f43789ad9row8_col1\" class=\"data row8 col1\" >19</td> \n",
       "    </tr>    <tr> \n",
       "        <th id=\"T_1b7e4c68_ab26_11e8_b216_784f43789ad9level0_row9\" class=\"row_heading level0 row9\" >jordan spieth</th> \n",
       "        <td id=\"T_1b7e4c68_ab26_11e8_b216_784f43789ad9row9_col0\" class=\"data row9 col0\" >13.8125</td> \n",
       "        <td id=\"T_1b7e4c68_ab26_11e8_b216_784f43789ad9row9_col1\" class=\"data row9 col1\" >17</td> \n",
       "    </tr>    <tr> \n",
       "        <th id=\"T_1b7e4c68_ab26_11e8_b216_784f43789ad9level0_row10\" class=\"row_heading level0 row10\" >phil mickelson</th> \n",
       "        <td id=\"T_1b7e4c68_ab26_11e8_b216_784f43789ad9row10_col0\" class=\"data row10 col0\" >13.9412</td> \n",
       "        <td id=\"T_1b7e4c68_ab26_11e8_b216_784f43789ad9row10_col1\" class=\"data row10 col1\" >18</td> \n",
       "    </tr>    <tr> \n",
       "        <th id=\"T_1b7e4c68_ab26_11e8_b216_784f43789ad9level0_row11\" class=\"row_heading level0 row11\" >bryson dechambeau</th> \n",
       "        <td id=\"T_1b7e4c68_ab26_11e8_b216_784f43789ad9row11_col0\" class=\"data row11 col0\" >14.9474</td> \n",
       "        <td id=\"T_1b7e4c68_ab26_11e8_b216_784f43789ad9row11_col1\" class=\"data row11 col1\" >20</td> \n",
       "    </tr></tbody> \n",
       "</table> "
      ],
      "text/plain": [
       "<pandas.io.formats.style.Styler at 0x104e2df60>"
      ]
     },
     "execution_count": 5,
     "metadata": {},
     "output_type": "execute_result"
    }
   ],
   "source": [
    "us_team = ['dustin johnson', \n",
    "           'brooks koepka', \n",
    "           'justin thomas', \n",
    "           'patrick reed', \n",
    "           'bubba watson', \n",
    "           'jordan spieth', \n",
    "           'rickie fowler', \n",
    "           'webb simpson']\n",
    "\n",
    "(\n",
    "    leaderboard_ts.sort_values('mean_rank').iloc[:12][['mean_rank', 'cuts']]\n",
    "    .style.apply(lambda x: ['background: lightblue' if i in us_team\n",
    "                              else '' for i in x.index])\n",
    ")"
   ]
  },
  {
   "cell_type": "code",
   "execution_count": 6,
   "metadata": {
    "collapsed": false,
    "deletable": true,
    "editable": true
   },
   "outputs": [
    {
     "data": {
      "text/plain": [
       "<matplotlib.text.Text at 0x10c400240>"
      ]
     },
     "execution_count": 6,
     "metadata": {},
     "output_type": "execute_result"
    },
    {
     "data": {
      "image/png": "[encoded data removed]",
      "text/plain": [
       "<matplotlib.figure.Figure at 0x10c3a9710>"
      ]
     },
     "metadata": {},
     "output_type": "display_data"
    }
   ],
   "source": [
    "leaderboard_ts.sort_values('mean_rank').iloc[:12]['mean_rank'].plot(ylim=(0, 20), figsize=(13, 3), kind='bar')\n",
    "plt.ylabel(\"Mean rank\", size=15)"
   ]
  },
  {
   "cell_type": "markdown",
   "metadata": {
    "deletable": true,
    "editable": true
   },
   "source": [
    "No huge surprises with the best-in-class: world no.1 Dustin Johnson comes out ahead of the pack with a pretty exceptional mean rank of ~6th. He's the only player who has an average rank within the top 10 for this season.\n",
    "\n",
    "Most of the other auto-qualifiers for the US team are near the top of this metric too: Thomas, Reed, Koepka, Spieth & Fowler are all in the top 10, Simpson & Reed come in at 11th and 12th respectively. The only exception for the existing team is Bubba Watson with a mean rank of 36.06 with 21 events. This is probably down to Bubba's great win at the Dell Technologies Matchplay not being counted as only strokeplay events are used here.\n",
    "\n",
    "What about the players who haven't qualified automatically?"
   ]
  },
  {
   "cell_type": "code",
   "execution_count": 7,
   "metadata": {
    "collapsed": false,
    "deletable": true,
    "editable": true
   },
   "outputs": [
    {
     "data": {
      "text/html": [
       "<div>\n",
       "<style>\n",
       "    .dataframe thead tr:only-child th {\n",
       "        text-align: right;\n",
       "    }\n",
       "\n",
       "    .dataframe thead th {\n",
       "        text-align: left;\n",
       "    }\n",
       "\n",
       "    .dataframe tbody tr th {\n",
       "        vertical-align: top;\n",
       "    }\n",
       "</style>\n",
       "<table border=\"1\" class=\"dataframe\">\n",
       "  <thead>\n",
       "    <tr style=\"text-align: right;\">\n",
       "      <th></th>\n",
       "      <th>mean_rank</th>\n",
       "      <th>cuts</th>\n",
       "    </tr>\n",
       "  </thead>\n",
       "  <tbody>\n",
       "    <tr>\n",
       "      <th>tiger woods</th>\n",
       "      <td>12.071429</td>\n",
       "      <td>15</td>\n",
       "    </tr>\n",
       "    <tr>\n",
       "      <th>patrick cantlay</th>\n",
       "      <td>12.882353</td>\n",
       "      <td>18</td>\n",
       "    </tr>\n",
       "    <tr>\n",
       "      <th>tony finau</th>\n",
       "      <td>12.904762</td>\n",
       "      <td>22</td>\n",
       "    </tr>\n",
       "    <tr>\n",
       "      <th>phil mickelson</th>\n",
       "      <td>13.941176</td>\n",
       "      <td>18</td>\n",
       "    </tr>\n",
       "    <tr>\n",
       "      <th>bryson dechambeau</th>\n",
       "      <td>14.947368</td>\n",
       "      <td>20</td>\n",
       "    </tr>\n",
       "    <tr>\n",
       "      <th>kyle stanley</th>\n",
       "      <td>15.062500</td>\n",
       "      <td>17</td>\n",
       "    </tr>\n",
       "    <tr>\n",
       "      <th>russell henley</th>\n",
       "      <td>16.642857</td>\n",
       "      <td>15</td>\n",
       "    </tr>\n",
       "    <tr>\n",
       "      <th>chez reavie</th>\n",
       "      <td>16.882353</td>\n",
       "      <td>18</td>\n",
       "    </tr>\n",
       "    <tr>\n",
       "      <th>zach johnson</th>\n",
       "      <td>17.600000</td>\n",
       "      <td>21</td>\n",
       "    </tr>\n",
       "    <tr>\n",
       "      <th>billy horschel</th>\n",
       "      <td>17.666667</td>\n",
       "      <td>16</td>\n",
       "    </tr>\n",
       "    <tr>\n",
       "      <th>luke list</th>\n",
       "      <td>17.944444</td>\n",
       "      <td>19</td>\n",
       "    </tr>\n",
       "    <tr>\n",
       "      <th>ryan moore</th>\n",
       "      <td>18.000000</td>\n",
       "      <td>17</td>\n",
       "    </tr>\n",
       "    <tr>\n",
       "      <th>chesson hadley</th>\n",
       "      <td>18.150000</td>\n",
       "      <td>21</td>\n",
       "    </tr>\n",
       "    <tr>\n",
       "      <th>aaron wise</th>\n",
       "      <td>18.230769</td>\n",
       "      <td>14</td>\n",
       "    </tr>\n",
       "    <tr>\n",
       "      <th>kevin chappell</th>\n",
       "      <td>18.466667</td>\n",
       "      <td>16</td>\n",
       "    </tr>\n",
       "  </tbody>\n",
       "</table>\n",
       "</div>"
      ],
      "text/plain": [
       "                   mean_rank  cuts\n",
       "tiger woods        12.071429    15\n",
       "patrick cantlay    12.882353    18\n",
       "tony finau         12.904762    22\n",
       "phil mickelson     13.941176    18\n",
       "bryson dechambeau  14.947368    20\n",
       "kyle stanley       15.062500    17\n",
       "russell henley     16.642857    15\n",
       "chez reavie        16.882353    18\n",
       "zach johnson       17.600000    21\n",
       "billy horschel     17.666667    16\n",
       "luke list          17.944444    19\n",
       "ryan moore         18.000000    17\n",
       "chesson hadley     18.150000    21\n",
       "aaron wise         18.230769    14\n",
       "kevin chappell     18.466667    16"
      ]
     },
     "execution_count": 7,
     "metadata": {},
     "output_type": "execute_result"
    }
   ],
   "source": [
    "remaining = set(leaderboard_ts.index) - set(us_team)\n",
    "\n",
    "potential_picks = (\n",
    "    leaderboard_ts[leaderboard_ts.index\n",
    "        .isin(remaining)].sort_values('mean_rank')\n",
    "    .iloc[:15]\n",
    ")\n",
    "\n",
    "potential_picks[['mean_rank', 'cuts']]"
   ]
  },
  {
   "cell_type": "markdown",
   "metadata": {
    "deletable": true,
    "editable": true
   },
   "source": [
    "Tiger Woods' return is made all the more impressive given he's averaging a top 15 finish thru 15 cuts made. Along with Mickelson, you have to expect that both these guys will be the first 2 wildcard picks for Furyk: their combination of Ryder Cup experience and a good 2018 will be invaluable.\n",
    "\n",
    "Finau and DeChambeau perform well using these metrics, as is to be expected with both being in-form and Bryson picking up the win at last week's Northern Trust. Interestingly, Patrick Cantlay comes out really favourbly here too despite being less associated with the wildcard spots by many."
   ]
  },
  {
   "cell_type": "markdown",
   "metadata": {
    "deletable": true,
    "editable": true
   },
   "source": [
    "### Relative strokes to winner"
   ]
  },
  {
   "cell_type": "markdown",
   "metadata": {
    "deletable": true,
    "editable": true
   },
   "source": [
    "Since the mean week-on-week rank doesn't consider ties or the relative gap between final positions, let's look at a different metric in this context to find out more: _relative score to the eventual winner_. This is calculated by taking the difference of a player's 4 round total from the eventual winner of that event: note that winning an event results in a relative score of 0, the ideal value."
   ]
  },
  {
   "cell_type": "code",
   "execution_count": 8,
   "metadata": {
    "collapsed": false,
    "deletable": true,
    "editable": true
   },
   "outputs": [
    {
     "data": {
      "text/html": [
       "<style  type=\"text/css\" >\n",
       "    #T_1bcec128_ab26_11e8_a56f_784f43789ad9row0_col0 {\n",
       "            background:  lightblue;\n",
       "        }    #T_1bcec128_ab26_11e8_a56f_784f43789ad9row0_col1 {\n",
       "            background:  lightblue;\n",
       "        }    #T_1bcec128_ab26_11e8_a56f_784f43789ad9row0_col2 {\n",
       "            background:  lightblue;\n",
       "        }    #T_1bcec128_ab26_11e8_a56f_784f43789ad9row1_col0 {\n",
       "            background:  lightblue;\n",
       "        }    #T_1bcec128_ab26_11e8_a56f_784f43789ad9row1_col1 {\n",
       "            background:  lightblue;\n",
       "        }    #T_1bcec128_ab26_11e8_a56f_784f43789ad9row1_col2 {\n",
       "            background:  lightblue;\n",
       "        }    #T_1bcec128_ab26_11e8_a56f_784f43789ad9row3_col0 {\n",
       "            background:  lightblue;\n",
       "        }    #T_1bcec128_ab26_11e8_a56f_784f43789ad9row3_col1 {\n",
       "            background:  lightblue;\n",
       "        }    #T_1bcec128_ab26_11e8_a56f_784f43789ad9row3_col2 {\n",
       "            background:  lightblue;\n",
       "        }    #T_1bcec128_ab26_11e8_a56f_784f43789ad9row4_col0 {\n",
       "            background:  lightblue;\n",
       "        }    #T_1bcec128_ab26_11e8_a56f_784f43789ad9row4_col1 {\n",
       "            background:  lightblue;\n",
       "        }    #T_1bcec128_ab26_11e8_a56f_784f43789ad9row4_col2 {\n",
       "            background:  lightblue;\n",
       "        }    #T_1bcec128_ab26_11e8_a56f_784f43789ad9row5_col0 {\n",
       "            background:  lightblue;\n",
       "        }    #T_1bcec128_ab26_11e8_a56f_784f43789ad9row5_col1 {\n",
       "            background:  lightblue;\n",
       "        }    #T_1bcec128_ab26_11e8_a56f_784f43789ad9row5_col2 {\n",
       "            background:  lightblue;\n",
       "        }</style>  \n",
       "<table id=\"T_1bcec128_ab26_11e8_a56f_784f43789ad9\" > \n",
       "<thead>    <tr> \n",
       "        <th class=\"blank level0\" ></th> \n",
       "        <th class=\"col_heading level0 col0\" >mean_rank</th> \n",
       "        <th class=\"col_heading level0 col1\" >cuts</th> \n",
       "        <th class=\"col_heading level0 col2\" >mean_relative_strokes</th> \n",
       "    </tr></thead> \n",
       "<tbody>    <tr> \n",
       "        <th id=\"T_1bcec128_ab26_11e8_a56f_784f43789ad9level0_row0\" class=\"row_heading level0 row0\" >dustin johnson</th> \n",
       "        <td id=\"T_1bcec128_ab26_11e8_a56f_784f43789ad9row0_col0\" class=\"data row0 col0\" >6.5</td> \n",
       "        <td id=\"T_1bcec128_ab26_11e8_a56f_784f43789ad9row0_col1\" class=\"data row0 col1\" >17</td> \n",
       "        <td id=\"T_1bcec128_ab26_11e8_a56f_784f43789ad9row0_col2\" class=\"data row0 col2\" >5.125</td> \n",
       "    </tr>    <tr> \n",
       "        <th id=\"T_1bcec128_ab26_11e8_a56f_784f43789ad9level0_row1\" class=\"row_heading level0 row1\" >rickie fowler</th> \n",
       "        <td id=\"T_1bcec128_ab26_11e8_a56f_784f43789ad9row1_col0\" class=\"data row1 col0\" >11.75</td> \n",
       "        <td id=\"T_1bcec128_ab26_11e8_a56f_784f43789ad9row1_col1\" class=\"data row1 col1\" >17</td> \n",
       "        <td id=\"T_1bcec128_ab26_11e8_a56f_784f43789ad9row1_col2\" class=\"data row1 col2\" >7.125</td> \n",
       "    </tr>    <tr> \n",
       "        <th id=\"T_1bcec128_ab26_11e8_a56f_784f43789ad9level0_row2\" class=\"row_heading level0 row2\" >tony finau</th> \n",
       "        <td id=\"T_1bcec128_ab26_11e8_a56f_784f43789ad9row2_col0\" class=\"data row2 col0\" >12.9048</td> \n",
       "        <td id=\"T_1bcec128_ab26_11e8_a56f_784f43789ad9row2_col1\" class=\"data row2 col1\" >22</td> \n",
       "        <td id=\"T_1bcec128_ab26_11e8_a56f_784f43789ad9row2_col2\" class=\"data row2 col2\" >7.19048</td> \n",
       "    </tr>    <tr> \n",
       "        <th id=\"T_1bcec128_ab26_11e8_a56f_784f43789ad9level0_row3\" class=\"row_heading level0 row3\" >justin thomas</th> \n",
       "        <td id=\"T_1bcec128_ab26_11e8_a56f_784f43789ad9row3_col0\" class=\"data row3 col0\" >10.5</td> \n",
       "        <td id=\"T_1bcec128_ab26_11e8_a56f_784f43789ad9row3_col1\" class=\"data row3 col1\" >19</td> \n",
       "        <td id=\"T_1bcec128_ab26_11e8_a56f_784f43789ad9row3_col2\" class=\"data row3 col2\" >7.22222</td> \n",
       "    </tr>    <tr> \n",
       "        <th id=\"T_1bcec128_ab26_11e8_a56f_784f43789ad9level0_row4\" class=\"row_heading level0 row4\" >webb simpson</th> \n",
       "        <td id=\"T_1bcec128_ab26_11e8_a56f_784f43789ad9row4_col0\" class=\"data row4 col0\" >13.1111</td> \n",
       "        <td id=\"T_1bcec128_ab26_11e8_a56f_784f43789ad9row4_col1\" class=\"data row4 col1\" >19</td> \n",
       "        <td id=\"T_1bcec128_ab26_11e8_a56f_784f43789ad9row4_col2\" class=\"data row4 col2\" >7.27778</td> \n",
       "    </tr>    <tr> \n",
       "        <th id=\"T_1bcec128_ab26_11e8_a56f_784f43789ad9level0_row5\" class=\"row_heading level0 row5\" >patrick reed</th> \n",
       "        <td id=\"T_1bcec128_ab26_11e8_a56f_784f43789ad9row5_col0\" class=\"data row5 col0\" >11.9412</td> \n",
       "        <td id=\"T_1bcec128_ab26_11e8_a56f_784f43789ad9row5_col1\" class=\"data row5 col1\" >18</td> \n",
       "        <td id=\"T_1bcec128_ab26_11e8_a56f_784f43789ad9row5_col2\" class=\"data row5 col2\" >7.35294</td> \n",
       "    </tr>    <tr> \n",
       "        <th id=\"T_1bcec128_ab26_11e8_a56f_784f43789ad9level0_row6\" class=\"row_heading level0 row6\" >patrick cantlay</th> \n",
       "        <td id=\"T_1bcec128_ab26_11e8_a56f_784f43789ad9row6_col0\" class=\"data row6 col0\" >12.8824</td> \n",
       "        <td id=\"T_1bcec128_ab26_11e8_a56f_784f43789ad9row6_col1\" class=\"data row6 col1\" >18</td> \n",
       "        <td id=\"T_1bcec128_ab26_11e8_a56f_784f43789ad9row6_col2\" class=\"data row6 col2\" >7.47059</td> \n",
       "    </tr>    <tr> \n",
       "        <th id=\"T_1bcec128_ab26_11e8_a56f_784f43789ad9level0_row7\" class=\"row_heading level0 row7\" >tiger woods</th> \n",
       "        <td id=\"T_1bcec128_ab26_11e8_a56f_784f43789ad9row7_col0\" class=\"data row7 col0\" >12.0714</td> \n",
       "        <td id=\"T_1bcec128_ab26_11e8_a56f_784f43789ad9row7_col1\" class=\"data row7 col1\" >15</td> \n",
       "        <td id=\"T_1bcec128_ab26_11e8_a56f_784f43789ad9row7_col2\" class=\"data row7 col2\" >7.5</td> \n",
       "    </tr>    <tr> \n",
       "        <th id=\"T_1bcec128_ab26_11e8_a56f_784f43789ad9level0_row8\" class=\"row_heading level0 row8\" >bryson dechambeau</th> \n",
       "        <td id=\"T_1bcec128_ab26_11e8_a56f_784f43789ad9row8_col0\" class=\"data row8 col0\" >14.9474</td> \n",
       "        <td id=\"T_1bcec128_ab26_11e8_a56f_784f43789ad9row8_col1\" class=\"data row8 col1\" >20</td> \n",
       "        <td id=\"T_1bcec128_ab26_11e8_a56f_784f43789ad9row8_col2\" class=\"data row8 col2\" >8.10526</td> \n",
       "    </tr>    <tr> \n",
       "        <th id=\"T_1bcec128_ab26_11e8_a56f_784f43789ad9level0_row9\" class=\"row_heading level0 row9\" >phil mickelson</th> \n",
       "        <td id=\"T_1bcec128_ab26_11e8_a56f_784f43789ad9row9_col0\" class=\"data row9 col0\" >13.9412</td> \n",
       "        <td id=\"T_1bcec128_ab26_11e8_a56f_784f43789ad9row9_col1\" class=\"data row9 col1\" >18</td> \n",
       "        <td id=\"T_1bcec128_ab26_11e8_a56f_784f43789ad9row9_col2\" class=\"data row9 col2\" >8.11765</td> \n",
       "    </tr>    <tr> \n",
       "        <th id=\"T_1bcec128_ab26_11e8_a56f_784f43789ad9level0_row10\" class=\"row_heading level0 row10\" >chesson hadley</th> \n",
       "        <td id=\"T_1bcec128_ab26_11e8_a56f_784f43789ad9row10_col0\" class=\"data row10 col0\" >18.15</td> \n",
       "        <td id=\"T_1bcec128_ab26_11e8_a56f_784f43789ad9row10_col1\" class=\"data row10 col1\" >21</td> \n",
       "        <td id=\"T_1bcec128_ab26_11e8_a56f_784f43789ad9row10_col2\" class=\"data row10 col2\" >8.15</td> \n",
       "    </tr>    <tr> \n",
       "        <th id=\"T_1bcec128_ab26_11e8_a56f_784f43789ad9level0_row11\" class=\"row_heading level0 row11\" >aaron wise</th> \n",
       "        <td id=\"T_1bcec128_ab26_11e8_a56f_784f43789ad9row11_col0\" class=\"data row11 col0\" >18.2308</td> \n",
       "        <td id=\"T_1bcec128_ab26_11e8_a56f_784f43789ad9row11_col1\" class=\"data row11 col1\" >14</td> \n",
       "        <td id=\"T_1bcec128_ab26_11e8_a56f_784f43789ad9row11_col2\" class=\"data row11 col2\" >8.30769</td> \n",
       "    </tr></tbody> \n",
       "</table> "
      ],
      "text/plain": [
       "<pandas.io.formats.style.Styler at 0x10c462e48>"
      ]
     },
     "execution_count": 8,
     "metadata": {},
     "output_type": "execute_result"
    }
   ],
   "source": [
    "relative_strokes_df = (\n",
    "    pd.concat([leaderboard['relative_strokes'] for leaderboard \n",
    "     in results_by_relative_score if leaderboard is not None], axis=1)\n",
    ")\n",
    "\n",
    "leaderboard_ts['mean_relative_strokes'] = relative_strokes_df.mean(axis=1)\n",
    "\n",
    "(\n",
    "    leaderboard_ts[['mean_rank', 'cuts', 'mean_relative_strokes']]\n",
    "    .sort_values('mean_relative_strokes')\n",
    "    .iloc[:12]\n",
    "    .style.apply(lambda x: ['background: lightblue' if i in us_team\n",
    "                              else '' for i in x.index])\n",
    ")"
   ]
  },
  {
   "cell_type": "markdown",
   "metadata": {
    "deletable": true,
    "editable": true
   },
   "source": [
    "DJ still comes out way ahead of his US counterparts, with an average of just over 5 strokes difference from each event winner.\n",
    "\n",
    "Tiger and Phil are both here again: I think we can safely assume these guys are locks at this stage. Finau, DeChambeau and Cantlay are all still here too."
   ]
  },
  {
   "cell_type": "markdown",
   "metadata": {
    "deletable": true,
    "editable": true
   },
   "source": [
    "### Player similarity, and the 'typical' 2018 Ryder Cup player"
   ]
  },
  {
   "cell_type": "markdown",
   "metadata": {
    "deletable": true,
    "editable": true
   },
   "source": [
    "There's an enormous volume of statistics and metrics available from the PGA about each player's season so far: from scoring averages, to strokes gained on approach, to driving distances, to bouncebackability. In many ways, the sheer number of ways it is possible to dissect the game of touring professionals can make it difficult to identify the most important characteristics. How can we use as expressive a combination of these stats to identify which players are in the upper echelons of performance, and potentially worthy of a place on the team?\n",
    "\n",
    "Here we construct something known as a _feature vector_ for each player active in 2018 to attempt this. This acts as a performance signature across multiple dimensions of the available data at strokeplay events, ideally covering as many of the pillars of 'good play' as we can. The 13 features selected are:\n",
    "\n",
    "* Strokes gained: Off the tee\n",
    "* Strokes gained: Approach\n",
    "* Strokes gained: Around the green\n",
    "* Strokes gained: Putting\n",
    "* Strokes gained: Tee-to-green\n",
    "* Strokes gained: Total\n",
    "* Driving distance\n",
    "* Driving accuracy\n",
    "* Greens in regulation\n",
    "* Eagles (holes per)\n",
    "* Birdie average\n",
    "* Scoring average\n",
    "* Sand save percentage\n",
    "\n",
    "Generating a feature vector for every player in 2018, we can begin to directly measure similarities between each of these and cluster similar players together."
   ]
  },
  {
   "cell_type": "code",
   "execution_count": 9,
   "metadata": {
    "collapsed": false,
    "deletable": true,
    "editable": true
   },
   "outputs": [],
   "source": [
    "from pga import player_profile, feature_vector, retrieve_all_pids\n",
    "import pickle\n",
    "\n",
    "features_dict = {}\n",
    "for pid in retrieve_all_pids():\n",
    "    try:\n",
    "        fv = feature_vector(player_profile(pid))\n",
    "        \n",
    "        if len(fv) != 13:\n",
    "            continue\n",
    "        \n",
    "        features_dict[pid] = fv\n",
    "        \n",
    "    except (ValueError, JSONDecodeError):\n",
    "        pass\n",
    "\n",
    "features_df = pd.DataFrame(features_dict).T\n",
    "\n",
    "#Normalise the feature vectors\n",
    "normed_features_df = (features_df - features_df.mean())/features_df.std()"
   ]
  },
  {
   "cell_type": "markdown",
   "metadata": {
    "deletable": true,
    "editable": true
   },
   "source": [
    "If we assume the guys who have auto-qualified for the US team represent the qualities of good Ryder Cup players, we can build a combination of them by taking their average feature vector. This centre of gravity feature vector represents an anchor point around which Ryder Cup-level performance circulates."
   ]
  },
  {
   "cell_type": "code",
   "execution_count": 10,
   "metadata": {
    "collapsed": false,
    "deletable": true,
    "editable": true
   },
   "outputs": [
    {
     "data": {
      "text/plain": [
       "array([ 0.91607331,  0.90605435,  0.9311356 ,  0.483642  ,  1.3756447 ,\n",
       "        1.60122744,  0.87506994, -0.53504216,  0.60110747, -0.64467215,\n",
       "        1.32453198, -1.87348021,  0.83992691])"
      ]
     },
     "execution_count": 10,
     "metadata": {},
     "output_type": "execute_result"
    }
   ],
   "source": [
    "#IDs for the US team as it stands\n",
    "team_player_ids = ['30925', '32102', '34046', '36689', '33448', '34360', '29221', '25804']\n",
    "\n",
    "average_rc_player = normed_features_df.loc[[str(pid) for pid in team_player_ids]].mean()\n",
    "average_rc_player.values #don't worry, these are post-normalised values so won't have much readability"
   ]
  },
  {
   "cell_type": "markdown",
   "metadata": {
    "deletable": true,
    "editable": true
   },
   "source": [
    "Which prospective US player is most similar to this 'ideal' team member?"
   ]
  },
  {
   "cell_type": "code",
   "execution_count": 11,
   "metadata": {
    "collapsed": false,
    "deletable": true,
    "editable": true
   },
   "outputs": [],
   "source": [
    "from scipy.spatial.distance import cosine\n",
    "non_team_pids = list(set(normed_features_df.index) - set(team_player_ids))\n",
    "\n",
    "similarity_results = []\n",
    "for pid in non_team_pids:\n",
    "    name = player_name(pid)\n",
    "    cosine_sim = 1 - cosine(normed_features_df.loc[str(pid)], average_rc_player)\n",
    "    similarity_results.append((name, cosine_sim))"
   ]
  },
  {
   "cell_type": "code",
   "execution_count": 12,
   "metadata": {
    "collapsed": false,
    "deletable": true,
    "editable": true
   },
   "outputs": [
    {
     "data": {
      "text/html": [
       "<div>\n",
       "<style>\n",
       "    .dataframe thead tr:only-child th {\n",
       "        text-align: right;\n",
       "    }\n",
       "\n",
       "    .dataframe thead th {\n",
       "        text-align: left;\n",
       "    }\n",
       "\n",
       "    .dataframe tbody tr th {\n",
       "        vertical-align: top;\n",
       "    }\n",
       "</style>\n",
       "<table border=\"1\" class=\"dataframe\">\n",
       "  <thead>\n",
       "    <tr style=\"text-align: right;\">\n",
       "      <th></th>\n",
       "      <th>similarity</th>\n",
       "    </tr>\n",
       "    <tr>\n",
       "      <th>name</th>\n",
       "      <th></th>\n",
       "    </tr>\n",
       "  </thead>\n",
       "  <tbody>\n",
       "    <tr>\n",
       "      <th>Bryson DeChambeau</th>\n",
       "      <td>0.931240</td>\n",
       "    </tr>\n",
       "    <tr>\n",
       "      <th>Patrick Cantlay</th>\n",
       "      <td>0.912422</td>\n",
       "    </tr>\n",
       "    <tr>\n",
       "      <th>Tony Finau</th>\n",
       "      <td>0.875127</td>\n",
       "    </tr>\n",
       "    <tr>\n",
       "      <th>Tiger Woods</th>\n",
       "      <td>0.807210</td>\n",
       "    </tr>\n",
       "    <tr>\n",
       "      <th>Luke List</th>\n",
       "      <td>0.725930</td>\n",
       "    </tr>\n",
       "    <tr>\n",
       "      <th>Chesson Hadley</th>\n",
       "      <td>0.706335</td>\n",
       "    </tr>\n",
       "    <tr>\n",
       "      <th>Phil Mickelson</th>\n",
       "      <td>0.677740</td>\n",
       "    </tr>\n",
       "    <tr>\n",
       "      <th>Zach Johnson</th>\n",
       "      <td>0.674785</td>\n",
       "    </tr>\n",
       "    <tr>\n",
       "      <th>Aaron Wise</th>\n",
       "      <td>0.632673</td>\n",
       "    </tr>\n",
       "    <tr>\n",
       "      <th>Charles Howell III</th>\n",
       "      <td>0.552994</td>\n",
       "    </tr>\n",
       "    <tr>\n",
       "      <th>Steve Stricker</th>\n",
       "      <td>0.512074</td>\n",
       "    </tr>\n",
       "    <tr>\n",
       "      <th>Chris Kirk</th>\n",
       "      <td>0.496390</td>\n",
       "    </tr>\n",
       "    <tr>\n",
       "      <th>Gary Woodland</th>\n",
       "      <td>0.427367</td>\n",
       "    </tr>\n",
       "    <tr>\n",
       "      <th>Kevin Na</th>\n",
       "      <td>0.394853</td>\n",
       "    </tr>\n",
       "    <tr>\n",
       "      <th>Ryan Moore</th>\n",
       "      <td>0.376735</td>\n",
       "    </tr>\n",
       "  </tbody>\n",
       "</table>\n",
       "</div>"
      ],
      "text/plain": [
       "                    similarity\n",
       "name                          \n",
       "Bryson DeChambeau     0.931240\n",
       "Patrick Cantlay       0.912422\n",
       "Tony Finau            0.875127\n",
       "Tiger Woods           0.807210\n",
       "Luke List             0.725930\n",
       "Chesson Hadley        0.706335\n",
       "Phil Mickelson        0.677740\n",
       "Zach Johnson          0.674785\n",
       "Aaron Wise            0.632673\n",
       "Charles Howell III    0.552994\n",
       "Steve Stricker        0.512074\n",
       "Chris Kirk            0.496390\n",
       "Gary Woodland         0.427367\n",
       "Kevin Na              0.394853\n",
       "Ryan Moore            0.376735"
      ]
     },
     "execution_count": 12,
     "metadata": {},
     "output_type": "execute_result"
    }
   ],
   "source": [
    "similarity_df = pd.DataFrame(similarity_results)\n",
    "similarity_df.columns = ['name', 'similarity']\n",
    "similarity_df.set_index('name', inplace=True)\n",
    "similarity_df.sort_values('similarity', ascending=False).iloc[:15]"
   ]
  },
  {
   "cell_type": "markdown",
   "metadata": {
    "deletable": true,
    "editable": true
   },
   "source": [
    "Bryson jumps ahead of both Cantlay and Finau in this view, but the margins are still really tight. I think these metrics show the gap between Cantlay and the two more high-profile prospectives of DeChambeau and Finau is really a lot smaller than it might first appear according to the golf media.\n",
    "\n",
    "All I can say is: best of luck to Jim Furyk in his selections, and let's go Europe!"
   ]
  },
  {
   "cell_type": "markdown",
   "metadata": {
    "deletable": true,
    "editable": true
   },
   "source": [
    "### Acknowledgements\n",
    "\n",
    "* Inspired by `golf.jacodoplessis.co.za`'s Go approach to grabbing PGA Tour API data (located at https://github.com/jacoduplessis/golf)"
   ]
  }
 ],
 "metadata": {
  "kernelspec": {
   "display_name": "Python 3",
   "language": "python",
   "name": "python3"
  },
  "language_info": {
   "codemirror_mode": {
    "name": "ipython",
    "version": 3
   },
   "file_extension": ".py",
   "mimetype": "text/x-python",
   "name": "python",
   "nbconvert_exporter": "python",
   "pygments_lexer": "ipython3",
   "version": "3.5.3"
  }
 },
 "nbformat": 4,
 "nbformat_minor": 2
}
